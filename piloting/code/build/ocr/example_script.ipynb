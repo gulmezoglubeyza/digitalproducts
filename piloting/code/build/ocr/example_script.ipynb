{
 "cells": [
  {
   "cell_type": "code",
   "execution_count": null,
   "metadata": {},
   "outputs": [],
   "source": [
    "import pandas as pd\n",
    "import numpy as np\n",
    "from datetime import datetime\n",
    "import re\n",
    "from unidecode import unidecode\n",
    "import tabula\n",
    "from tabula import read_pdf\n"
   ]
  },
  {
   "cell_type": "code",
   "execution_count": null,
   "metadata": {},
   "outputs": [],
   "source": [
    "res = pd.DataFrame()\n",
    "new_cols = ['name_surname',\t'name_first', 'constit_match', 'budget_office',\n",
    "            'spend_office', 'budget_staffing', 'spend_staffing', 'budget_windup', 'spend_windup', 'subtotal_office', 'budget_accom',\t'spend_accom',\n",
    "           'spend_travel_subs', 'spend_other', 'subtotal_other', 'total']\n",
    "#'postcode_office, 'budget_startup',\t'spend_startup',    'postode_accom',\n",
    "columns = ['second_name', 'fisrt_name','Constituency',  'Office maximum budget available', 'Office spend', \n",
    "       'Staffing maximum budget available', 'Staffing spend', 'Wind-up maximum budget available', 'Wind-up spend',\n",
    "       'Subtotal of office running costs', 'Accommodation maximum budget available','Accommodation spend',\n",
    "         'Travel and subsistence spend','Other costs spend', 'Subtotal of other parliamentary costs', 'Overall total spend for this financial year'\n",
    "       ]"
   ]
  },
  {
   "cell_type": "code",
   "execution_count": null,
   "metadata": {},
   "outputs": [],
   "source": [
    "dfs = read_pdf('/Users/anastasiianebolsina/Dropbox (BFI)/Expenses/Data/Expenses/raw_2005-2008/hocallowances0506current.pdf',  pages='all', lattice=True)\n",
    "col_pdf = ['none', 'member', 'constituency', 'cost_accom', 'london_sup', 'office_running', 'staff_costs', 'travel_cost', 'staff_travel','cental_stat', 'stat','it',\n",
    "           'other_costs', 'none2']\n",
    "res = pd.DataFrame()\n",
    "for l in range(len(dfs)):\n",
    "    df = dfs[l]\n",
    "    df.columns = col_pdf\n",
    "    df=df[col_pdf[1:-1]]\n",
    "    for i in col_pdf[3:-1]:\n",
    "        df[i] = df[i].str[1:]\n",
    "    df['year'] = '2005/2006'\n",
    "    res = pd.concat([res, df])\n",
    "\n",
    "res.to_csv(\"/Users/anastasiianebolsina/Dropbox (BFI)/Expenses/Data/working/spend_before2008/spend_2005_2006.csv\")\n"
   ]
  }
 ],
 "metadata": {
  "language_info": {
   "name": "python"
  }
 },
 "nbformat": 4,
 "nbformat_minor": 2
}
